{
  "nbformat": 4,
  "nbformat_minor": 0,
  "metadata": {
    "colab": {
      "provenance": []
    },
    "kernelspec": {
      "name": "python3",
      "display_name": "Python 3"
    },
    "language_info": {
      "name": "python"
    }
  },
  "cells": [
    {
      "cell_type": "markdown",
      "source": [
        "# Data Science Tools and Ecosystem"
      ],
      "metadata": {
        "id": "-7sEQrXe-Yb2"
      }
    },
    {
      "cell_type": "markdown",
      "source": [
        "In this notebook, Data Science Tools and Ecosystem are summarized."
      ],
      "metadata": {
        "id": "EURQQpFG_NEC"
      }
    },
    {
      "cell_type": "markdown",
      "source": [
        "**Objectives:**\n",
        "\n",
        "* List popular libraries used by Data Scientists\n",
        "* Practice arithmetic operations with integers in Python\n",
        "* List popular languages for Data Science"
      ],
      "metadata": {
        "id": "7WrSsrHmqbiV"
      }
    },
    {
      "cell_type": "markdown",
      "source": [
        "Some of the popular languages that Data Scientists use are:\n",
        "1. Python\n",
        "2. R\n",
        "3. SQL"
      ],
      "metadata": {
        "id": "eoyR3USa_gDQ"
      }
    },
    {
      "cell_type": "markdown",
      "source": [
        "Some of the commonly used libraries used by Data Scientists include:\n",
        "1. NumPy\n",
        "2. Pandas\n",
        "3. Matplotlib\n",
        "4. Seaborn\n",
        "5. Scikit-learn"
      ],
      "metadata": {
        "id": "rpuOVT62AORI"
      }
    },
    {
      "cell_type": "code",
      "source": [
        "import pandas as pd\n",
        "tabla=pd.DataFrame(data=[\"Python\",\"R\",\"Git\"],columns=['Data Science Tools'])\n",
        "print(tabla)"
      ],
      "metadata": {
        "colab": {
          "base_uri": "https://localhost:8080/"
        },
        "id": "A3a2hW_Zbeth",
        "outputId": "0ac55c59-dff5-4968-f1d2-56059cafe676"
      },
      "execution_count": null,
      "outputs": [
        {
          "output_type": "stream",
          "name": "stdout",
          "text": [
            "  Data Science Tools\n",
            "0             Python\n",
            "1                  R\n",
            "2                Git\n"
          ]
        }
      ]
    },
    {
      "cell_type": "markdown",
      "source": [
        "###Below are a few examples of evaluating arithmetic expressions in Python"
      ],
      "metadata": {
        "id": "fIIHhehmn8wH"
      }
    },
    {
      "cell_type": "code",
      "source": [
        "#This a simple arithmetic expression to mutiply then add integers\n",
        "(3*4)+5"
      ],
      "metadata": {
        "colab": {
          "base_uri": "https://localhost:8080/"
        },
        "id": "nwzE7uPmogEx",
        "outputId": "e57e202a-eedd-49f7-b346-0a37b18b3bbd"
      },
      "execution_count": 1,
      "outputs": [
        {
          "output_type": "execute_result",
          "data": {
            "text/plain": [
              "17"
            ]
          },
          "metadata": {},
          "execution_count": 1
        }
      ]
    },
    {
      "cell_type": "code",
      "source": [
        "#This will convert 200 minutes to hours by diving by 60\n",
        "(200/60)"
      ],
      "metadata": {
        "colab": {
          "base_uri": "https://localhost:8080/"
        },
        "id": "Co_8cR6KpBp3",
        "outputId": "eb80efd6-94ec-4715-aecc-f16fb60aa4de"
      },
      "execution_count": 2,
      "outputs": [
        {
          "output_type": "execute_result",
          "data": {
            "text/plain": [
              "3.3333333333333335"
            ]
          },
          "metadata": {},
          "execution_count": 2
        }
      ]
    },
    {
      "cell_type": "markdown",
      "source": [
        "## Author\n",
        "Luis Carlos Pico"
      ],
      "metadata": {
        "id": "elNgzQtbt65Q"
      }
    }
  ]
}